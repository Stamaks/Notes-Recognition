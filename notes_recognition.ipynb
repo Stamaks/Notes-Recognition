{
 "cells": [
  {
   "cell_type": "code",
   "execution_count": 10,
   "metadata": {
    "collapsed": false
   },
   "outputs": [],
   "source": [
    "import numpy as np\n",
    "from librosa import load, logamplitude\n",
    "from librosa.feature import melspectrogram\n",
    "from tqdm import tqdm_notebook\n",
    "from multiprocessing import Pool\n",
    "import pickle"
   ]
  },
  {
   "cell_type": "code",
   "execution_count": 11,
   "metadata": {
    "collapsed": true
   },
   "outputs": [],
   "source": [
    "import os\n",
    "filesNames = os.listdir(\"./wav\")"
   ]
  },
  {
   "cell_type": "code",
   "execution_count": 12,
   "metadata": {
    "collapsed": false
   },
   "outputs": [],
   "source": [
    "def get_spectrogram(path):\n",
    "    \"\"\"Строим спектограмму из wav файла\"\"\"\n",
    "#   Кстати, поправочка, которая стоила мне нервов: librosa работает только с wav файлами с частотой дискретизации 44,1 кГц\n",
    "    y, sr = load(path)\n",
    "    S = melspectrogram(y, sr=sr, n_mels=100)\n",
    "    log_S = logamplitude(S, ref_power=np.max)\n",
    "    return log_S"
   ]
  },
  {
   "cell_type": "code",
   "execution_count": 13,
   "metadata": {
    "collapsed": true
   },
   "outputs": [],
   "source": [
    "def get_spectrogram_1(x):\n",
    "#   Отправляем путь к файлу в get_spectrogram()\n",
    "    i, x = x\n",
    "    if i % 1000 == 0:\n",
    "        print(i)\n",
    "    return get_spectrogram('./wav/' + x)"
   ]
  },
  {
   "cell_type": "code",
   "execution_count": 14,
   "metadata": {
    "collapsed": true
   },
   "outputs": [],
   "source": [
    "spectrograms = []\n",
    "if os.stat(\"saved_data\").st_size != 0:\n",
    "    spectrograms = pickle.load(open(\"saved_data\", \"rb\"))"
   ]
  },
  {
   "cell_type": "code",
   "execution_count": 15,
   "metadata": {
    "collapsed": false
   },
   "outputs": [],
   "source": [
    "if len(filesNames) != len(spectrograms):\n",
    "    p = Pool(4)\n",
    "    spectrograms = p.map(get_spectrogram_1, enumerate(a))\n",
    "    pickle.dump(spectrograms, open(\"saved_data\", \"wb\"))    "
   ]
  },
  {
   "cell_type": "code",
   "execution_count": 16,
   "metadata": {
    "collapsed": false
   },
   "outputs": [],
   "source": [
    "# Создаем матрицу из нулей (кол-во_аудиофайлов, кол-во_нот_на_клавиатуре_ф-но_=_88)\n",
    "number_of_notes = 88\n",
    "data_answ = np.zeros((len(spectrograms), number_of_notes))"
   ]
  },
  {
   "cell_type": "code",
   "execution_count": 42,
   "metadata": {
    "collapsed": false
   },
   "outputs": [],
   "source": [
    "for i in range (len(spectrograms)):\n",
    "#   Берем инфорацию из имени файла, записываем в матрицу единицы напротив звучащих в файле нот\n",
    "#   file name example 2,23,36,120.mid.wav\n",
    "    name = a[i][:-8].split(\",\") \n",
    "    for j in range (int(name[0])):\n",
    "        data_answ[i][int(name[j+1]) - 21] = 1  "
   ]
  },
  {
   "cell_type": "code",
   "execution_count": null,
   "metadata": {
    "collapsed": true
   },
   "outputs": [],
   "source": [
    "data_answ = np.array(data_answ, dtype=int)"
   ]
  },
  {
   "cell_type": "code",
   "execution_count": 27,
   "metadata": {
    "collapsed": false
   },
   "outputs": [
    {
     "name": "stdout",
     "output_type": "stream",
     "text": [
      "(100, 90)\n",
      "(100, 95)\n",
      "(100, 145)\n"
     ]
    }
   ],
   "source": [
    "# У всех спектрограмм разное кол-во столбцов (и, возможно, строк)\n",
    "print (spectrograms[0].shape)\n",
    "print (spectrograms[1].shape)\n",
    "print (spectrograms[8000].shape)"
   ]
  },
  {
   "cell_type": "code",
   "execution_count": 41,
   "metadata": {
    "collapsed": false
   },
   "outputs": [],
   "source": [
    "# Приведем матрицы к наименьшему размеру, существующему в данной выборке\n",
    "arr = []\n",
    "min_num_of_rows = min(list(map(lambda x: np.shape(x)[0], spectrograms)))\n",
    "min_num_of_cols = min(list(map(lambda x: np.shape(x)[1], spectrograms)))\n",
    "for i in spectrograms:\n",
    "    arr.append(i[:min_num_of_rows, :min_num_of_cols])"
   ]
  },
  {
   "cell_type": "code",
   "execution_count": 64,
   "metadata": {
    "collapsed": false
   },
   "outputs": [],
   "source": [
    "# Так как spectrograms - лист двумерных массивов, а модель принимает на вход только двумерные массивы, \n",
    "# преобразуем spectrograms, сделав из матрицы одномерный массив\n",
    "spectrograms = np.array([b.ravel() for b in arr])"
   ]
  },
  {
   "cell_type": "code",
   "execution_count": 44,
   "metadata": {
    "collapsed": false
   },
   "outputs": [
    {
     "data": {
      "text/plain": [
       "(21181, 8900)"
      ]
     },
     "execution_count": 44,
     "metadata": {},
     "output_type": "execute_result"
    }
   ],
   "source": [
    "spectrograms.shape"
   ]
  },
  {
   "cell_type": "code",
   "execution_count": 45,
   "metadata": {
    "collapsed": false
   },
   "outputs": [],
   "source": [
    "# выберем достаточно большое рандомное число < 21181\n",
    "random_number = 15000\n",
    "X_train = spectrograms[:random_number]\n",
    "Y_train = data_answ[:random_number]\n",
    "X_test = spectrograms[random_number:]\n",
    "Y_test = data_answ[random_number:]"
   ]
  },
  {
   "cell_type": "code",
   "execution_count": 47,
   "metadata": {
    "collapsed": true
   },
   "outputs": [],
   "source": [
    "from sklearn.linear_model import LogisticRegression\n",
    "from tqdm import tqdm_notebook"
   ]
  },
  {
   "cell_type": "code",
   "execution_count": 60,
   "metadata": {
    "collapsed": false
   },
   "outputs": [
    {
     "name": "stdout",
     "output_type": "stream",
     "text": [
      "True\n"
     ]
    }
   ],
   "source": [
    "models = []\n",
    "if os.stat(\"Models_trained\").st_size != 0:\n",
    "    models = pickle.load(open(\"Models_trained\", \"rb\"))"
   ]
  },
  {
   "cell_type": "code",
   "execution_count": 48,
   "metadata": {
    "collapsed": false
   },
   "outputs": [
    {
     "name": "stdout",
     "output_type": "stream",
     "text": [
      "\n"
     ]
    }
   ],
   "source": [
    "if (len(models) != number_of_notes):\n",
    "    for i in tqdm_notebook(range(number_of_notes)):\n",
    "        model = LogisticRegression()\n",
    "        model.fit(X_train, Y_train[:, i])\n",
    "        models.append(model)\n",
    "    pickle.dump(models, open(\"Models_trained\", \"wb\"))"
   ]
  },
  {
   "cell_type": "code",
   "execution_count": 50,
   "metadata": {
    "collapsed": false
   },
   "outputs": [
    {
     "name": "stdout",
     "output_type": "stream",
     "text": [
      "\n"
     ]
    }
   ],
   "source": [
    "from sklearn.metrics import roc_auc_score\n",
    "Y_pred_trains =[]\n",
    "Y_pred_tests = []\n",
    "for i in tqdm_notebook(range(88)):\n",
    "    Y_pred_trains.append(models[i].predict(X_train))\n",
    "    Y_pred_tests.append(models[i].predict(X_test))"
   ]
  },
  {
   "cell_type": "code",
   "execution_count": 51,
   "metadata": {
    "collapsed": true
   },
   "outputs": [],
   "source": [
    "import matplotlib.pyplot as plt\n",
    "%matplotlib inline"
   ]
  },
  {
   "cell_type": "code",
   "execution_count": 52,
   "metadata": {
    "collapsed": false
   },
   "outputs": [
    {
     "name": "stdout",
     "output_type": "stream",
     "text": [
      "\n"
     ]
    },
    {
     "data": {
      "text/plain": [
       "[<matplotlib.lines.Line2D at 0x7f3d6cb35a20>]"
      ]
     },
     "execution_count": 52,
     "metadata": {},
     "output_type": "execute_result"
    },
    {
     "data": {
      "image/png": "[encoded data removed]",
      "text/plain": [
       "<matplotlib.figure.Figure at 0x7f3d6cb35278>"
      ]
     },
     "metadata": {},
     "output_type": "display_data"
    }
   ],
   "source": [
    "trains = []\n",
    "tests = []\n",
    "for i in tqdm_notebook(range(88)):\n",
    "    trains.append(roc_auc_score(Y_train[:, i],Y_pred_trains[i]))\n",
    "    tests.append(roc_auc_score(Y_test[:, i],Y_pred_tests[i]))\n",
    "plt.plot(np.arange(88), np.asarray(trains))\n",
    "plt.plot(np.arange(88), np.asarray(tests))"
   ]
  },
  {
   "cell_type": "code",
   "execution_count": 57,
   "metadata": {
    "collapsed": false
   },
   "outputs": [
    {
     "name": "stdout",
     "output_type": "stream",
     "text": [
      "\n",
      "Среднее на обучении 0.99537139148\n",
      "Среднее на тесте 0.974584294649\n"
     ]
    }
   ],
   "source": [
    "train = []\n",
    "test = []\n",
    "for i in tqdm_notebook(range(88)):\n",
    "    train.append(roc_auc_score(Y_train[:, i],Y_pred_trains[i]))\n",
    "    test.append(roc_auc_score(Y_test[:, i],Y_pred_tests[i]))\n",
    "print (\"Среднее на обучении\", np.mean(train))\n",
    "print (\"Среднее на тесте\", np.mean(test))"
   ]
  }
 ],
 "metadata": {
  "anaconda-cloud": {},
  "kernelspec": {
   "display_name": "Python [conda root]",
   "language": "python",
   "name": "conda-root-py"
  },
  "language_info": {
   "codemirror_mode": {
    "name": "ipython",
    "version": 3
   },
   "file_extension": ".py",
   "mimetype": "text/x-python",
   "name": "python",
   "nbconvert_exporter": "python",
   "pygments_lexer": "ipython3",
   "version": "3.5.2"
  },
  "widgets": {
   "state": {
    "0a542e7846954a81887d16f970bd4a6e": {
     "views": [
      {
       "cell_index": 18
      }
     ]
    },
    "3f985749a4394e5c86c91197ada55976": {
     "views": [
      {
       "cell_index": 16
      }
     ]
    },
    "c44ff39106684081bd449dec7e552e64": {
     "views": [
      {
       "cell_index": 19
      }
     ]
    },
    "ce7000e9608f4f8f92d6caac440d64f8": {
     "views": [
      {
       "cell_index": 14
      }
     ]
    }
   },
   "version": "1.2.0"
  }
 },
 "nbformat": 4,
 "nbformat_minor": 1
}
